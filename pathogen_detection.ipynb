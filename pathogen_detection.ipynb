{
 "cells": [
  {
   "attachments": {},
   "cell_type": "markdown",
   "metadata": {
    "_uuid": "1020827e241ac87ffdf8e0f8762a6885bdc28fbc",
    "id": "YC_Gn5dH4ZQ_"
   },
   "source": [
    "Import neccessary packages"
   ]
  },
  {
   "cell_type": "code",
   "execution_count": null,
   "metadata": {},
   "outputs": [],
   "source": [
    "%pip install numpy\n",
    "%pip install opencv-python==4.6.0.66\n",
    "%pip install sklearn\n",
    "%pip install keras\n",
    "%pip install matplotlib"
   ]
  },
  {
   "cell_type": "code",
   "execution_count": 3,
   "metadata": {
    "_cell_guid": "b1076dfc-b9ad-4769-8c92-a6c4dae69d19",
    "_uuid": "8f2839f25d086af736a60e9eeb907d3b93b6e0e5",
    "executionInfo": {
     "elapsed": 3963,
     "status": "ok",
     "timestamp": 1604373982787,
     "user": {
      "displayName": "Vaibhav Wagaskar",
      "photoUrl": "",
      "userId": "18291676089604901220"
     },
     "user_tz": -330
    },
    "id": "xCKnyjhD4ZRB"
   },
   "outputs": [],
   "source": [
    "import numpy as np\n",
    "import pickle\n",
    "import cv2\n",
    "from os import listdir\n",
    "from sklearn.preprocessing import LabelBinarizer\n",
    "from keras.models import Sequential\n",
    "from tensorflow.keras.layers import BatchNormalization\n",
    "from keras.layers.convolutional import Conv2D\n",
    "from keras.layers.convolutional import MaxPooling2D\n",
    "from keras.layers.core import Activation, Flatten, Dropout, Dense\n",
    "from keras import backend as K\n",
    "from keras.preprocessing.image import ImageDataGenerator\n",
    "from keras.optimizers import Adam\n",
    "from keras.preprocessing import image\n",
    "from tensorflow.keras.utils import img_to_array\n",
    "from sklearn.preprocessing import MultiLabelBinarizer\n",
    "from sklearn.model_selection import train_test_split\n",
    "import matplotlib.pyplot as plt"
   ]
  },
  {
   "cell_type": "code",
   "execution_count": 5,
   "metadata": {
    "_uuid": "7c3354a78e21a1a62ad0c4689d0ab3238fb760d4",
    "executionInfo": {
     "elapsed": 1640,
     "status": "ok",
     "timestamp": 1604376680114,
     "user": {
      "displayName": "Vaibhav Wagaskar",
      "photoUrl": "",
      "userId": "18291676089604901220"
     },
     "user_tz": -330
    },
    "id": "V0hJUAWM4ZRQ"
   },
   "outputs": [],
   "source": [
    "EPOCHS = 45\n",
    "INIT_LR = 1e-3\n",
    "BS = 32\n",
    "default_image_size = tuple((100,100))\n",
    "image_size = 0\n",
    "directory_root =\"C:\\\\Users\\\\Chaitali\\\\Downloads\\\\finalproject\\\\finalproject\\\\data\"\n",
    "width=100\n",
    "height=100\n",
    "depth=3"
   ]
  },
  {
   "cell_type": "code",
   "execution_count": 8,
   "metadata": {},
   "outputs": [
    {
     "name": "stdout",
     "output_type": "stream",
     "text": [
      "Requirement already satisfied: split-folders in c:\\users\\chaitali\\appdata\\local\\programs\\python\\python311\\lib\\site-packages (0.5.1)\n",
      "Note: you may need to restart the kernel to use updated packages.\n"
     ]
    }
   ],
   "source": [
    "%pip install split-folders\n",
    "import splitfolders # or import splitfolders\n",
    "input_folder =\"C:\\\\Users\\\\Chaitali\\\\Downloads\\\\finalproject\\\\finalproject\\\\data\"\n",
    "output = \"C:\\\\Users\\\\Chaitali\\\\OneDrive\\\\Desktop\\\\New folder\" #where you want the split datasets saved. one will be created if it does not exist or none is set\n",
    "\n",
    "splitfolders.ratio(input_folder, output=output, seed=42, ratio=(.8, .1, .1)) # ratio of split are in order of train/val/test. You can change to whatever you want. For train/val sets only, you could do .75, .25 for example.\n"
   ]
  },
  {
   "attachments": {},
   "cell_type": "markdown",
   "metadata": {
    "_uuid": "2bf7ac0a0b805946f844a48e55d5281403e53f57",
    "id": "mEQmN0WS4ZRd"
   },
   "source": [
    "Function to convert images to array"
   ]
  },
  {
   "cell_type": "code",
   "execution_count": 9,
   "metadata": {
    "_uuid": "c9c3e60b13ace6c8f3e54336e12f9970fde438a3",
    "executionInfo": {
     "elapsed": 1737,
     "status": "ok",
     "timestamp": 1604374005150,
     "user": {
      "displayName": "Vaibhav Wagaskar",
      "photoUrl": "",
      "userId": "18291676089604901220"
     },
     "user_tz": -330
    },
    "id": "RcbRlrTH4ZRe"
   },
   "outputs": [],
   "source": [
    "def convert_image_to_array(image_dir):\n",
    "    try:\n",
    "        image = cv2.imread(image_dir)\n",
    "        if image is not None :\n",
    "            image = cv2.resize(image, default_image_size)   \n",
    "            return img_to_array(image)\n",
    "        else :\n",
    "            return np.array([])\n",
    "    except Exception as e:\n",
    "        print(f\"Error : {e}\")\n",
    "        return None"
   ]
  },
  {
   "attachments": {},
   "cell_type": "markdown",
   "metadata": {
    "_uuid": "24d42b87fad54a9556f78357ce673cc5152468c1",
    "id": "ChLlyJ7z4ZRn"
   },
   "source": [
    "Fetch images from directory"
   ]
  },
  {
   "cell_type": "code",
   "execution_count": 11,
   "metadata": {
    "_uuid": "bb8d4c343314028f52ae3c3a840478a834a16c95",
    "colab": {
     "base_uri": "https://localhost:8080/"
    },
    "executionInfo": {
     "elapsed": 2276008,
     "status": "ok",
     "timestamp": 1604376284749,
     "user": {
      "displayName": "Vaibhav Wagaskar",
      "photoUrl": "",
      "userId": "18291676089604901220"
     },
     "user_tz": -330
    },
    "id": "hKYlYiCt4ZRp",
    "outputId": "5e62504e-b915-40be-cabb-200b6996252e"
   },
   "outputs": [
    {
     "name": "stdout",
     "output_type": "stream",
     "text": [
      "[INFO] Loading images ...\n",
      "[INFO] Processing Amoeba ...\n",
      "[INFO] Processing Clean-samples ...\n",
      "[INFO] Processing Rod_bacteria ...\n",
      "[INFO] Processing Amoeba ...\n",
      "[INFO] Processing Clean-samples ...\n",
      "[INFO] Processing Rod_bacteria ...\n",
      "[INFO] Processing Amoeba ...\n",
      "[INFO] Processing Clean-samples ...\n",
      "[INFO] Processing Rod_bacteria ...\n",
      "[INFO] Image loading completed\n"
     ]
    }
   ],
   "source": [
    "image_list, label_list = [], []\n",
    "try:\n",
    "    print(\"[INFO] Loading images ...\")\n",
    "    root_dir = listdir(directory_root)\n",
    "    for directory in root_dir :\n",
    "        # remove .DS_Store from list\n",
    "        if directory == \".DS_Store\" :\n",
    "            root_dir.remove(directory)\n",
    "\n",
    "    for pathogen_folder in root_dir :\n",
    "        pathogen_folder_list = listdir(f\"{directory_root}/{pathogen_folder}\")\n",
    "        \n",
    "        for disease_folder in pathogen_folder_list :\n",
    "            # remove .DS_Store from list\n",
    "            if disease_folder == \".DS_Store\" :\n",
    "                pathogen_folder_list.remove(disease_folder)\n",
    "\n",
    "        for pathogen_detecting_folder in pathogen_folder_list:\n",
    "            print(f\"[INFO] Processing {pathogen_detecting_folder} ...\")\n",
    "            pathogen_image_list = listdir(f\"{directory_root}/{pathogen_folder}/{pathogen_detecting_folder}/\")\n",
    "                \n",
    "            for single_pathogen_image in pathogen_image_list :\n",
    "                if single_pathogen_image == \".DS_Store\" :\n",
    "                    pathogen_image_list.remove(single_pathogen_image)\n",
    "\n",
    "            for image in pathogen_image_list[:250]:\n",
    "                image_directory = f\"{directory_root}/{pathogen_folder}/{pathogen_detecting_folder}/{image}\"\n",
    "                if image_directory.endswith(\".jpg\") == True or image_directory.endswith(\".JPG\") == True:\n",
    "                    image_list.append(convert_image_to_array(image_directory))\n",
    "                    label_list.append(pathogen_detecting_folder)\n",
    "    print(\"[INFO] Image loading completed\")  \n",
    "except Exception as e:\n",
    "    print(f\"Error : {e}\")"
   ]
  },
  {
   "attachments": {},
   "cell_type": "markdown",
   "metadata": {
    "_uuid": "35c4b76d33e0263523e479657580104532f81d6e",
    "id": "6fTzv0y84ZRx"
   },
   "source": [
    "Get Size of Processed Image"
   ]
  },
  {
   "cell_type": "code",
   "execution_count": 12,
   "metadata": {
    "_uuid": "6ee1ad9c422f112ec2862699b5c0f68b8d658123",
    "executionInfo": {
     "elapsed": 1669,
     "status": "ok",
     "timestamp": 1604376302022,
     "user": {
      "displayName": "Vaibhav Wagaskar",
      "photoUrl": "",
      "userId": "18291676089604901220"
     },
     "user_tz": -330
    },
    "id": "O2-fRddh4ZRy"
   },
   "outputs": [],
   "source": [
    "image_size = len(image_list)"
   ]
  },
  {
   "attachments": {},
   "cell_type": "markdown",
   "metadata": {
    "_uuid": "905b41b226f3fd82a88e67821eb42a07f24b31f7",
    "id": "m1mwPUTN4ZR7"
   },
   "source": [
    "Transform Image Labels uisng [Scikit Learn](http://scikit-learn.org/)'s LabelBinarizer"
   ]
  },
  {
   "cell_type": "code",
   "execution_count": 13,
   "metadata": {
    "_uuid": "904ff893fe14f5060dd9e7be2ccf96ec793597e5",
    "executionInfo": {
     "elapsed": 2682,
     "status": "ok",
     "timestamp": 1604376309291,
     "user": {
      "displayName": "Vaibhav Wagaskar",
      "photoUrl": "",
      "userId": "18291676089604901220"
     },
     "user_tz": -330
    },
    "id": "KbEaCulu4ZR8"
   },
   "outputs": [],
   "source": [
    "label_binarizer = LabelBinarizer()\n",
    "image_labels = label_binarizer.fit_transform(label_list)\n",
    "pickle.dump(label_binarizer,open('label_transform.pkl', 'wb'))\n",
    "n_classes = len(label_binarizer.classes_)"
   ]
  },
  {
   "attachments": {},
   "cell_type": "markdown",
   "metadata": {
    "_uuid": "f860c29a1d714f06d25e6a0c5bca94739e5d24cc",
    "id": "6_mRRkrk4ZSE"
   },
   "source": [
    "Print the classes"
   ]
  },
  {
   "cell_type": "code",
   "execution_count": 14,
   "metadata": {
    "_uuid": "0f876397c40c3c8aa09772a92fd60481fc9ba268",
    "colab": {
     "base_uri": "https://localhost:8080/"
    },
    "executionInfo": {
     "elapsed": 1777,
     "status": "ok",
     "timestamp": 1604376315639,
     "user": {
      "displayName": "Vaibhav Wagaskar",
      "photoUrl": "",
      "userId": "18291676089604901220"
     },
     "user_tz": -330
    },
    "id": "arZ9HVde4ZSF",
    "outputId": "b9ac1219-d343-472e-b361-ed3de5ce8056"
   },
   "outputs": [
    {
     "name": "stdout",
     "output_type": "stream",
     "text": [
      "['Amoeba' 'Clean-samples' 'Rod_bacteria']\n"
     ]
    }
   ],
   "source": [
    "print(label_binarizer.classes_)"
   ]
  },
  {
   "cell_type": "code",
   "execution_count": 15,
   "metadata": {
    "_uuid": "6cd9c977b3d164a5570a0c24fdd8624adb9d56b8",
    "executionInfo": {
     "elapsed": 3852,
     "status": "ok",
     "timestamp": 1604376322342,
     "user": {
      "displayName": "Vaibhav Wagaskar",
      "photoUrl": "",
      "userId": "18291676089604901220"
     },
     "user_tz": -330
    },
    "id": "LmPwGkfW4ZSK"
   },
   "outputs": [],
   "source": [
    "np_image_list = np.array(image_list, dtype=np.float16) / 225.0"
   ]
  },
  {
   "cell_type": "code",
   "execution_count": 16,
   "metadata": {
    "_uuid": "9f4829560fdfa218cee18c1cfb2eb9452ef180e5",
    "colab": {
     "base_uri": "https://localhost:8080/"
    },
    "executionInfo": {
     "elapsed": 1505,
     "status": "ok",
     "timestamp": 1604376325268,
     "user": {
      "displayName": "Vaibhav Wagaskar",
      "photoUrl": "",
      "userId": "18291676089604901220"
     },
     "user_tz": -330
    },
    "id": "mVN2zShn4ZSR",
    "outputId": "4c95437a-a775-46ec-f7c7-90c99ae3ccf7"
   },
   "outputs": [
    {
     "name": "stdout",
     "output_type": "stream",
     "text": [
      "[INFO] Spliting data to train, test\n"
     ]
    }
   ],
   "source": [
    "print(\"[INFO] Spliting data to train, test\")\n",
    "x_train, x_test, y_train, y_test = train_test_split(np_image_list, image_labels, test_size=0.2, random_state = 42) "
   ]
  },
  {
   "cell_type": "code",
   "execution_count": 17,
   "metadata": {
    "_uuid": "eec8afa64e676d52c814fc8e096955a60f13b6c5",
    "executionInfo": {
     "elapsed": 1502,
     "status": "ok",
     "timestamp": 1604376329639,
     "user": {
      "displayName": "Vaibhav Wagaskar",
      "photoUrl": "",
      "userId": "18291676089604901220"
     },
     "user_tz": -330
    },
    "id": "_El3JmDX4ZSY"
   },
   "outputs": [],
   "source": [
    "aug = ImageDataGenerator(\n",
    "    rotation_range=25, width_shift_range=0.1,\n",
    "    height_shift_range=0.1, shear_range=0.2, \n",
    "    zoom_range=0.2,horizontal_flip=True, \n",
    "    fill_mode=\"nearest\")"
   ]
  },
  {
   "cell_type": "code",
   "execution_count": 18,
   "metadata": {
    "_cell_guid": "79c7e3d0-c299-4dcb-8224-4455121ee9b0",
    "_uuid": "d629ff2d2480ee46fbb7e2d37f6b5fab8052498a",
    "executionInfo": {
     "elapsed": 7640,
     "status": "ok",
     "timestamp": 1604376339437,
     "user": {
      "displayName": "Vaibhav Wagaskar",
      "photoUrl": "",
      "userId": "18291676089604901220"
     },
     "user_tz": -330
    },
    "id": "7R8cQhAM4ZSf"
   },
   "outputs": [],
   "source": [
    "model = Sequential()\n",
    "inputShape = (height, width, depth)\n",
    "chanDim = -1\n",
    "if K.image_data_format() == \"channels_first\":\n",
    "    inputShape = (depth, height, width)\n",
    "    chanDim = 1\n",
    "model.add(Conv2D(32, (3, 3), padding=\"same\",input_shape=inputShape))\n",
    "model.add(Activation(\"relu\"))\n",
    "model.add(BatchNormalization(axis=chanDim))\n",
    "model.add(MaxPooling2D(pool_size=(3, 3)))\n",
    "model.add(Dropout(0.25))\n",
    "model.add(Conv2D(64, (3, 3), padding=\"same\"))\n",
    "model.add(Activation(\"relu\"))\n",
    "model.add(BatchNormalization(axis=chanDim))\n",
    "model.add(Conv2D(64, (3, 3), padding=\"same\"))\n",
    "model.add(Activation(\"relu\"))\n",
    "model.add(BatchNormalization(axis=chanDim))\n",
    "model.add(Conv2D(64, (3, 3), padding=\"same\"))\n",
    "model.add(Activation(\"relu\"))\n",
    "model.add(BatchNormalization(axis=chanDim))\n",
    "model.add(MaxPooling2D(pool_size=(2, 2)))\n",
    "model.add(Dropout(0.25))\n",
    "model.add(Conv2D(128, (3, 3), padding=\"same\"))\n",
    "model.add(Activation(\"relu\"))\n",
    "model.add(BatchNormalization(axis=chanDim))\n",
    "model.add(Conv2D(128, (3, 3), padding=\"same\"))\n",
    "model.add(Activation(\"relu\"))\n",
    "model.add(BatchNormalization(axis=chanDim))\n",
    "model.add(MaxPooling2D(pool_size=(2, 2)))\n",
    "model.add(Dropout(0.25))\n",
    "model.add(Flatten())\n",
    "model.add(Dense(1024))\n",
    "model.add(Activation(\"relu\"))\n",
    "model.add(BatchNormalization())\n",
    "model.add(Dropout(0.5))\n",
    "model.add(Dense(n_classes))\n",
    "model.add(Activation(\"softmax\"))"
   ]
  },
  {
   "attachments": {},
   "cell_type": "markdown",
   "metadata": {
    "_uuid": "53b13c03e4cea6dc2453a84e254b806ebeed2d99",
    "id": "9cw7MUhD4ZSl"
   },
   "source": [
    "Model Summary"
   ]
  },
  {
   "cell_type": "code",
   "execution_count": 19,
   "metadata": {
    "_uuid": "1e1523a834fbf872940171fbdefb3dcce2b5f31b",
    "colab": {
     "base_uri": "https://localhost:8080/"
    },
    "executionInfo": {
     "elapsed": 1667,
     "status": "ok",
     "timestamp": 1604376348007,
     "user": {
      "displayName": "Vaibhav Wagaskar",
      "photoUrl": "",
      "userId": "18291676089604901220"
     },
     "user_tz": -330
    },
    "id": "8upKzVwR4ZSn",
    "outputId": "0678de1f-fe4a-47e3-c079-8db20f519e0a"
   },
   "outputs": [
    {
     "name": "stdout",
     "output_type": "stream",
     "text": [
      "Model: \"sequential\"\n",
      "_________________________________________________________________\n",
      " Layer (type)                Output Shape              Param #   \n",
      "=================================================================\n",
      " conv2d (Conv2D)             (None, 100, 100, 32)      896       \n",
      "                                                                 \n",
      " activation (Activation)     (None, 100, 100, 32)      0         \n",
      "                                                                 \n",
      " batch_normalization (BatchN  (None, 100, 100, 32)     128       \n",
      " ormalization)                                                   \n",
      "                                                                 \n",
      " max_pooling2d (MaxPooling2D  (None, 33, 33, 32)       0         \n",
      " )                                                               \n",
      "                                                                 \n",
      " dropout (Dropout)           (None, 33, 33, 32)        0         \n",
      "                                                                 \n",
      " conv2d_1 (Conv2D)           (None, 33, 33, 64)        18496     \n",
      "                                                                 \n",
      " activation_1 (Activation)   (None, 33, 33, 64)        0         \n",
      "                                                                 \n",
      " batch_normalization_1 (Batc  (None, 33, 33, 64)       256       \n",
      " hNormalization)                                                 \n",
      "                                                                 \n",
      " conv2d_2 (Conv2D)           (None, 33, 33, 64)        36928     \n",
      "                                                                 \n",
      " activation_2 (Activation)   (None, 33, 33, 64)        0         \n",
      "                                                                 \n",
      " batch_normalization_2 (Batc  (None, 33, 33, 64)       256       \n",
      " hNormalization)                                                 \n",
      "                                                                 \n",
      " conv2d_3 (Conv2D)           (None, 33, 33, 64)        36928     \n",
      "                                                                 \n",
      " activation_3 (Activation)   (None, 33, 33, 64)        0         \n",
      "                                                                 \n",
      " batch_normalization_3 (Batc  (None, 33, 33, 64)       256       \n",
      " hNormalization)                                                 \n",
      "                                                                 \n",
      " max_pooling2d_1 (MaxPooling  (None, 16, 16, 64)       0         \n",
      " 2D)                                                             \n",
      "                                                                 \n",
      " dropout_1 (Dropout)         (None, 16, 16, 64)        0         \n",
      "                                                                 \n",
      " conv2d_4 (Conv2D)           (None, 16, 16, 128)       73856     \n",
      "                                                                 \n",
      " activation_4 (Activation)   (None, 16, 16, 128)       0         \n",
      "                                                                 \n",
      " batch_normalization_4 (Batc  (None, 16, 16, 128)      512       \n",
      " hNormalization)                                                 \n",
      "                                                                 \n",
      " conv2d_5 (Conv2D)           (None, 16, 16, 128)       147584    \n",
      "                                                                 \n",
      " activation_5 (Activation)   (None, 16, 16, 128)       0         \n",
      "                                                                 \n",
      " batch_normalization_5 (Batc  (None, 16, 16, 128)      512       \n",
      " hNormalization)                                                 \n",
      "                                                                 \n",
      " max_pooling2d_2 (MaxPooling  (None, 8, 8, 128)        0         \n",
      " 2D)                                                             \n",
      "                                                                 \n",
      " dropout_2 (Dropout)         (None, 8, 8, 128)         0         \n",
      "                                                                 \n",
      " flatten (Flatten)           (None, 8192)              0         \n",
      "                                                                 \n",
      " dense (Dense)               (None, 1024)              8389632   \n",
      "                                                                 \n",
      " activation_6 (Activation)   (None, 1024)              0         \n",
      "                                                                 \n",
      " batch_normalization_6 (Batc  (None, 1024)             4096      \n",
      " hNormalization)                                                 \n",
      "                                                                 \n",
      " dropout_3 (Dropout)         (None, 1024)              0         \n",
      "                                                                 \n",
      " dense_1 (Dense)             (None, 3)                 3075      \n",
      "                                                                 \n",
      " activation_7 (Activation)   (None, 3)                 0         \n",
      "                                                                 \n",
      "=================================================================\n",
      "Total params: 8,713,411\n",
      "Trainable params: 8,710,403\n",
      "Non-trainable params: 3,008\n",
      "_________________________________________________________________\n"
     ]
    }
   ],
   "source": [
    "model.summary()"
   ]
  },
  {
   "cell_type": "code",
   "execution_count": 20,
   "metadata": {
    "_uuid": "b21dffee32c325136b4ea23ac511049723f34a24",
    "colab": {
     "base_uri": "https://localhost:8080/"
    },
    "executionInfo": {
     "elapsed": 1656,
     "status": "ok",
     "timestamp": 1604376358564,
     "user": {
      "displayName": "Vaibhav Wagaskar",
      "photoUrl": "",
      "userId": "18291676089604901220"
     },
     "user_tz": -330
    },
    "id": "OOVp2r0i4ZSt",
    "outputId": "5ab06f7b-15a7-4fcd-854d-31c99c79e7b5"
   },
   "outputs": [
    {
     "name": "stdout",
     "output_type": "stream",
     "text": [
      "[INFO] training network...\n"
     ]
    },
    {
     "name": "stderr",
     "output_type": "stream",
     "text": [
      "c:\\Users\\Chaitali\\AppData\\Local\\Programs\\Python\\Python311\\Lib\\site-packages\\keras\\optimizers\\legacy\\adam.py:117: UserWarning: The `lr` argument is deprecated, use `learning_rate` instead.\n",
      "  super().__init__(name, **kwargs)\n"
     ]
    }
   ],
   "source": [
    "#Compiling Model\n",
    "opt = Adam(lr=INIT_LR, decay=INIT_LR / EPOCHS)\n",
    "# distribution\n",
    "model.compile(loss=\"binary_crossentropy\", optimizer=opt,metrics=[\"accuracy\"])\n",
    "# train the network\n",
    "print(\"[INFO] training network...\")"
   ]
  },
  {
   "cell_type": "code",
   "execution_count": 21,
   "metadata": {
    "_uuid": "1a13efc5ded339fc3c0d9e61041e8ca555362db0",
    "colab": {
     "base_uri": "https://localhost:8080/"
    },
    "executionInfo": {
     "elapsed": 237419,
     "status": "ok",
     "timestamp": 1604376929631,
     "user": {
      "displayName": "Vaibhav Wagaskar",
      "photoUrl": "",
      "userId": "18291676089604901220"
     },
     "user_tz": -330
    },
    "id": "dMxT_lf14ZSz",
    "outputId": "a52bba5d-160d-4d9b-f1cf-d3d30cbaad31"
   },
   "outputs": [
    {
     "name": "stdout",
     "output_type": "stream",
     "text": [
      "Epoch 1/45\n",
      "13/13 [==============================] - 8s 457ms/step - loss: 0.8357 - accuracy: 0.6051 - val_loss: 0.6661 - val_accuracy: 0.4579\n",
      "Epoch 2/45\n",
      "13/13 [==============================] - 5s 391ms/step - loss: 0.5817 - accuracy: 0.7139 - val_loss: 0.6546 - val_accuracy: 0.4673\n",
      "Epoch 3/45\n",
      "13/13 [==============================] - 5s 387ms/step - loss: 0.5016 - accuracy: 0.7342 - val_loss: 0.6927 - val_accuracy: 0.4579\n",
      "Epoch 4/45\n",
      "13/13 [==============================] - 5s 392ms/step - loss: 0.4295 - accuracy: 0.8076 - val_loss: 0.7496 - val_accuracy: 0.4579\n",
      "Epoch 5/45\n",
      "13/13 [==============================] - 5s 398ms/step - loss: 0.3689 - accuracy: 0.8203 - val_loss: 0.8203 - val_accuracy: 0.4579\n",
      "Epoch 6/45\n",
      "13/13 [==============================] - 5s 411ms/step - loss: 0.3610 - accuracy: 0.8152 - val_loss: 0.6623 - val_accuracy: 0.4860\n",
      "Epoch 7/45\n",
      "13/13 [==============================] - 5s 402ms/step - loss: 0.3536 - accuracy: 0.8000 - val_loss: 1.0282 - val_accuracy: 0.4579\n",
      "Epoch 8/45\n",
      "13/13 [==============================] - 5s 405ms/step - loss: 0.3110 - accuracy: 0.8430 - val_loss: 1.5029 - val_accuracy: 0.4579\n",
      "Epoch 9/45\n",
      "13/13 [==============================] - 5s 401ms/step - loss: 0.3121 - accuracy: 0.8278 - val_loss: 1.3237 - val_accuracy: 0.4579\n",
      "Epoch 10/45\n",
      "13/13 [==============================] - 6s 422ms/step - loss: 0.2772 - accuracy: 0.8702 - val_loss: 0.6688 - val_accuracy: 0.4486\n",
      "Epoch 11/45\n",
      "13/13 [==============================] - 5s 404ms/step - loss: 0.3243 - accuracy: 0.8380 - val_loss: 1.3181 - val_accuracy: 0.4579\n",
      "Epoch 12/45\n",
      "13/13 [==============================] - 5s 399ms/step - loss: 0.3053 - accuracy: 0.8430 - val_loss: 0.5965 - val_accuracy: 0.4860\n",
      "Epoch 13/45\n",
      "13/13 [==============================] - 5s 399ms/step - loss: 0.2922 - accuracy: 0.8658 - val_loss: 1.2169 - val_accuracy: 0.4673\n",
      "Epoch 14/45\n",
      "13/13 [==============================] - 5s 404ms/step - loss: 0.3536 - accuracy: 0.8000 - val_loss: 1.1069 - val_accuracy: 0.4579\n",
      "Epoch 15/45\n",
      "13/13 [==============================] - 5s 400ms/step - loss: 0.2972 - accuracy: 0.8456 - val_loss: 0.7844 - val_accuracy: 0.5421\n",
      "Epoch 16/45\n",
      "13/13 [==============================] - 5s 396ms/step - loss: 0.2162 - accuracy: 0.9013 - val_loss: 0.6553 - val_accuracy: 0.6636\n",
      "Epoch 17/45\n",
      "13/13 [==============================] - 5s 411ms/step - loss: 0.2108 - accuracy: 0.8654 - val_loss: 0.7445 - val_accuracy: 0.5701\n",
      "Epoch 18/45\n",
      "13/13 [==============================] - 5s 398ms/step - loss: 0.2134 - accuracy: 0.9063 - val_loss: 0.9802 - val_accuracy: 0.5888\n",
      "Epoch 19/45\n",
      "13/13 [==============================] - 5s 416ms/step - loss: 0.1973 - accuracy: 0.8911 - val_loss: 0.9324 - val_accuracy: 0.5607\n",
      "Epoch 20/45\n",
      "13/13 [==============================] - 5s 409ms/step - loss: 0.2293 - accuracy: 0.8911 - val_loss: 1.4390 - val_accuracy: 0.4860\n",
      "Epoch 21/45\n",
      "13/13 [==============================] - 5s 396ms/step - loss: 0.2244 - accuracy: 0.8709 - val_loss: 1.8073 - val_accuracy: 0.5140\n",
      "Epoch 22/45\n",
      "13/13 [==============================] - 5s 405ms/step - loss: 0.1876 - accuracy: 0.8886 - val_loss: 2.0083 - val_accuracy: 0.4673\n",
      "Epoch 23/45\n",
      "13/13 [==============================] - 5s 408ms/step - loss: 0.1982 - accuracy: 0.9063 - val_loss: 1.7905 - val_accuracy: 0.5607\n",
      "Epoch 24/45\n",
      "13/13 [==============================] - 6s 426ms/step - loss: 0.2443 - accuracy: 0.8810 - val_loss: 1.1545 - val_accuracy: 0.6168\n",
      "Epoch 25/45\n",
      "13/13 [==============================] - 6s 419ms/step - loss: 0.2384 - accuracy: 0.8962 - val_loss: 0.6938 - val_accuracy: 0.6729\n",
      "Epoch 26/45\n",
      "13/13 [==============================] - 6s 425ms/step - loss: 0.2481 - accuracy: 0.8759 - val_loss: 0.8370 - val_accuracy: 0.6262\n",
      "Epoch 27/45\n",
      "13/13 [==============================] - 6s 471ms/step - loss: 0.1599 - accuracy: 0.9291 - val_loss: 0.6344 - val_accuracy: 0.6542\n",
      "Epoch 28/45\n",
      "13/13 [==============================] - 6s 425ms/step - loss: 0.1786 - accuracy: 0.9038 - val_loss: 0.6595 - val_accuracy: 0.6449\n",
      "Epoch 29/45\n",
      "13/13 [==============================] - 6s 422ms/step - loss: 0.2373 - accuracy: 0.8911 - val_loss: 0.9967 - val_accuracy: 0.6355\n",
      "Epoch 30/45\n",
      "13/13 [==============================] - 5s 421ms/step - loss: 0.1914 - accuracy: 0.9013 - val_loss: 0.8472 - val_accuracy: 0.6168\n",
      "Epoch 31/45\n",
      "13/13 [==============================] - 5s 398ms/step - loss: 0.1346 - accuracy: 0.9392 - val_loss: 0.9412 - val_accuracy: 0.6449\n",
      "Epoch 32/45\n",
      "13/13 [==============================] - 5s 396ms/step - loss: 0.1634 - accuracy: 0.9139 - val_loss: 1.9187 - val_accuracy: 0.5701\n",
      "Epoch 33/45\n",
      "13/13 [==============================] - 5s 415ms/step - loss: 0.1436 - accuracy: 0.9139 - val_loss: 0.5079 - val_accuracy: 0.7944\n",
      "Epoch 34/45\n",
      "13/13 [==============================] - 5s 417ms/step - loss: 0.1467 - accuracy: 0.9291 - val_loss: 0.3972 - val_accuracy: 0.8224\n",
      "Epoch 35/45\n",
      "13/13 [==============================] - 5s 405ms/step - loss: 0.2048 - accuracy: 0.8861 - val_loss: 0.3157 - val_accuracy: 0.8037\n",
      "Epoch 36/45\n",
      "13/13 [==============================] - 5s 410ms/step - loss: 0.1140 - accuracy: 0.9494 - val_loss: 0.2491 - val_accuracy: 0.8411\n",
      "Epoch 37/45\n",
      "13/13 [==============================] - 5s 406ms/step - loss: 0.1495 - accuracy: 0.9139 - val_loss: 0.4548 - val_accuracy: 0.7383\n",
      "Epoch 38/45\n",
      "13/13 [==============================] - 5s 409ms/step - loss: 0.1437 - accuracy: 0.9342 - val_loss: 0.9373 - val_accuracy: 0.7009\n",
      "Epoch 39/45\n",
      "13/13 [==============================] - 5s 406ms/step - loss: 0.1142 - accuracy: 0.9443 - val_loss: 0.8494 - val_accuracy: 0.7009\n",
      "Epoch 40/45\n",
      "13/13 [==============================] - 5s 410ms/step - loss: 0.1424 - accuracy: 0.9215 - val_loss: 0.2589 - val_accuracy: 0.8692\n",
      "Epoch 41/45\n",
      "13/13 [==============================] - 5s 405ms/step - loss: 0.1311 - accuracy: 0.9443 - val_loss: 0.9963 - val_accuracy: 0.7196\n",
      "Epoch 42/45\n",
      "13/13 [==============================] - 5s 404ms/step - loss: 0.1100 - accuracy: 0.9544 - val_loss: 0.2475 - val_accuracy: 0.9252\n",
      "Epoch 43/45\n",
      "13/13 [==============================] - 6s 452ms/step - loss: 0.1226 - accuracy: 0.9342 - val_loss: 0.4027 - val_accuracy: 0.8224\n",
      "Epoch 44/45\n",
      "13/13 [==============================] - 6s 435ms/step - loss: 0.0853 - accuracy: 0.9567 - val_loss: 0.1502 - val_accuracy: 0.8972\n",
      "Epoch 45/45\n",
      "13/13 [==============================] - 5s 414ms/step - loss: 0.0756 - accuracy: 0.9544 - val_loss: 0.5738 - val_accuracy: 0.8037\n"
     ]
    }
   ],
   "source": [
    "#Fitting Model\n",
    "history = model.fit(\n",
    "    aug.flow(x_train, y_train, batch_size=BS),\n",
    "    validation_data=(x_test, y_test),\n",
    "    steps_per_epoch=len(x_train) // BS,\n",
    "    epochs=EPOCHS, verbose=1\n",
    "    )"
   ]
  },
  {
   "attachments": {},
   "cell_type": "markdown",
   "metadata": {
    "_uuid": "9ca1a4489bd624c69a13cd37c0c2306ac8de55c2",
    "id": "qmEqqjng4ZTC"
   },
   "source": [
    "Model Accuracy"
   ]
  },
  {
   "cell_type": "code",
   "execution_count": 22,
   "metadata": {
    "_uuid": "bb44f3d0b7e2862bc7d1a032612ebfd48212c1fe",
    "colab": {
     "base_uri": "https://localhost:8080/"
    },
    "executionInfo": {
     "elapsed": 1720,
     "status": "ok",
     "timestamp": 1604376938873,
     "user": {
      "displayName": "Vaibhav Wagaskar",
      "photoUrl": "",
      "userId": "18291676089604901220"
     },
     "user_tz": -330
    },
    "id": "mP34m5l34ZTD",
    "outputId": "59236a5a-a552-4420-b7d1-bbf5d9fd5659"
   },
   "outputs": [
    {
     "name": "stdout",
     "output_type": "stream",
     "text": [
      "[INFO] Calculating model accuracy\n",
      "4/4 [==============================] - 0s 72ms/step - loss: 0.5738 - accuracy: 0.8037\n",
      "Test Accuracy: 80.37382960319519\n"
     ]
    }
   ],
   "source": [
    "print(\"[INFO] Calculating model accuracy\")\n",
    "scores = model.evaluate(x_test, y_test)\n",
    "print(f\"Test Accuracy: {scores[1]*100}\")"
   ]
  },
  {
   "cell_type": "code",
   "execution_count": 23,
   "metadata": {
    "executionInfo": {
     "elapsed": 2007,
     "status": "ok",
     "timestamp": 1604376952167,
     "user": {
      "displayName": "Vaibhav Wagaskar",
      "photoUrl": "",
      "userId": "18291676089604901220"
     },
     "user_tz": -330
    },
    "id": "bHEC2HyWLnHG"
   },
   "outputs": [],
   "source": [
    "# Save the model using TensorFlow SavedModel format\n",
    "model.save('my_model.h5')"
   ]
  },
  {
   "cell_type": "code",
   "execution_count": 24,
   "metadata": {
    "colab": {
     "base_uri": "https://localhost:8080/"
    },
    "executionInfo": {
     "elapsed": 2586,
     "status": "ok",
     "timestamp": 1604376976139,
     "user": {
      "displayName": "Vaibhav Wagaskar",
      "photoUrl": "",
      "userId": "18291676089604901220"
     },
     "user_tz": -330
    },
    "id": "Z0F35n2shbj4",
    "outputId": "a652149d-f458-4e85-e7de-6dac32adb0fe"
   },
   "outputs": [
    {
     "name": "stdout",
     "output_type": "stream",
     "text": [
      "14/14 [==============================] - 1s 77ms/step - loss: 0.7517 - accuracy: 0.7892\n",
      "Test Accuracy: 78.92271876335144\n"
     ]
    }
   ],
   "source": [
    "scores = model.evaluate(x_train, y_train)\n",
    "print(f\"Test Accuracy: {scores[1]*100}\")"
   ]
  },
  {
   "cell_type": "code",
   "execution_count": 25,
   "metadata": {
    "id": "Z7FrhSXUjlVz"
   },
   "outputs": [
    {
     "data": {
      "text/plain": [
       "[0.7517270445823669, 0.7892271876335144]"
      ]
     },
     "execution_count": 25,
     "metadata": {},
     "output_type": "execute_result"
    }
   ],
   "source": [
    "scores"
   ]
  },
  {
   "cell_type": "code",
   "execution_count": 26,
   "metadata": {},
   "outputs": [
    {
     "data": {
      "text/plain": [
       "{'verbose': 1, 'epochs': 45, 'steps': 13}"
      ]
     },
     "execution_count": 26,
     "metadata": {},
     "output_type": "execute_result"
    }
   ],
   "source": [
    "history.params"
   ]
  },
  {
   "cell_type": "code",
   "execution_count": 27,
   "metadata": {},
   "outputs": [],
   "source": [
    "acc=history.history['accuracy']\n",
    "val_acc=history.history['val_accuracy']\n",
    "loss=history.history['loss']\n",
    "val_loss=history.history['val_loss']"
   ]
  },
  {
   "cell_type": "code",
   "execution_count": 29,
   "metadata": {},
   "outputs": [
    {
     "data": {
      "image/png": "[encoded data removed]",
      "text/plain": [
       "<Figure size 800x800 with 2 Axes>"
      ]
     },
     "metadata": {},
     "output_type": "display_data"
    }
   ],
   "source": [
    "plt.figure(figsize=(8,8))\n",
    "plt.subplot(1,2,1)\n",
    "plt.plot(range(EPOCHS),acc,label='Training Accuracy')\n",
    "plt.plot(range(EPOCHS),val_acc,label='Validation Accuracy')\n",
    "plt.legend(loc='lower right')\n",
    "plt.title('Training and Validation Accuracy')\n",
    "\n",
    "plt.subplot(1, 2, 2)\n",
    "plt.plot(range(EPOCHS), loss, label='Training Loss')\n",
    "plt.plot(range(EPOCHS), val_loss, label='Validation Loss')\n",
    "plt.legend(loc='upper right')\n",
    "plt.title('Training and Validation Loss')\n",
    "plt.show()"
   ]
  }
 ],
 "metadata": {
  "accelerator": "GPU",
  "colab": {
   "collapsed_sections": [],
   "name": "pathogen-disease-detection-Training.ipynb",
   "provenance": []
  },
  "kernelspec": {
   "display_name": "Python 3",
   "language": "python",
   "name": "python3"
  },
  "language_info": {
   "codemirror_mode": {
    "name": "ipython",
    "version": 3
   },
   "file_extension": ".py",
   "mimetype": "text/x-python",
   "name": "python",
   "nbconvert_exporter": "python",
   "pygments_lexer": "ipython3",
   "version": "3.11.3"
  }
 },
 "nbformat": 4,
 "nbformat_minor": 1
}
